{
 "cells": [
  {
   "cell_type": "markdown",
   "id": "502df1b8-5f0b-44f0-9db9-59ebb6664d85",
   "metadata": {},
   "source": [
    "# Test preprocessor module"
   ]
  },
  {
   "cell_type": "code",
   "execution_count": null,
   "id": "2ccb6f6f-0646-4761-9336-a60d8dc0e05e",
   "metadata": {},
   "outputs": [],
   "source": [
    "import numpy as np\n",
    "import matplotlib.pyplot as plt\n",
    "import xarray as xr\n",
    "import sys\n",
    "#sys.path.append(os.environ.get('PREPROCPATH'))\n",
    "sys.path.append('/efs_ecco/mgoldber/project/EH24-PREPROCLLC/preproc/')\n",
    "\n",
    "from preproc import InSituPreprocessor\n",
    "\n",
    "%load_ext autoreload\n",
    "%autoreload 2"
   ]
  },
  {
   "cell_type": "code",
   "execution_count": null,
   "id": "a03a434d-458f-4673-8283-311363b597dd",
   "metadata": {},
   "outputs": [],
   "source": [
    "# fastest way for me to get a ds on this machine\n",
    "import sys\n",
    "sys.path.append('/efs_ecco/mgoldber/project/EH24-PREPROCLLC/scripts/')\n",
    "from get_ds import get_ds\n",
    "grid_ds = get_ds()"
   ]
  },
  {
   "cell_type": "markdown",
   "id": "9f5968fc-1475-49bc-989e-b75d9af50bd5",
   "metadata": {},
   "source": [
    "Look at dimension attributes"
   ]
  },
  {
   "cell_type": "code",
   "execution_count": null,
   "id": "e1323fa1-7034-407f-ad2c-aacdfce888f0",
   "metadata": {},
   "outputs": [],
   "source": [
    "pkgs = ['profiles', 'obsfit']\n",
    "for pkg in pkgs:\n",
    "    ISP = InSituPreprocessor(pkg, grid_ds)\n",
    "    print(ISP.dims_spatial, ISP.dims_interp, ISP.dims_depth)"
   ]
  },
  {
   "cell_type": "markdown",
   "id": "4097bbf7-1623-425b-89d8-9dc4582bc12f",
   "metadata": {},
   "source": [
    "Test modules with random observation locations"
   ]
  },
  {
   "cell_type": "code",
   "execution_count": null,
   "id": "bc878f0d-a09c-49e5-911b-e1873d8a6e73",
   "metadata": {},
   "outputs": [],
   "source": [
    "def generate_random_points(nobs, lon_range=(-180, 180), lat_range=(-90, 90)):\n",
    "    lons = np.random.uniform(low=lon_range[0], high=lon_range[1], size=nobs)\n",
    "    lats = np.random.uniform(low=lat_range[0], high=lat_range[1], size=nobs)\n",
    "    return lons, lats\n",
    "\n",
    "nobs = 10000\n",
    "ungridded_lons, ungridded_lats = generate_random_points(nobs)\n",
    "ISP = InSituPreprocessor('obsfit')\n",
    "ISP = InSituPreprocessor('profiles')\n",
    "ISP.get_obs_point(grid_ds, ungridded_lons, ungridded_lats)\n",
    "ISP.ds"
   ]
  },
  {
   "cell_type": "code",
   "execution_count": null,
   "id": "803ebc35-4156-4e3e-ac97-12b2cf504378",
   "metadata": {},
   "outputs": [],
   "source": [
    "fig, (ax1, ax2) = plt.subplots(1, 2)\n",
    "ax1.scatter(ISP.ds.sample_lon,ISP.ds.sample_lat, c=ISP.ds.sample_lon, alpha=0.1)\n",
    "ax1.scatter(ISP.ds.sample_interp_XC11,ISP.ds.sample_interp_YC11, c=ISP.ds.sample_interp_XC11)\n",
    "ax1.scatter(ISP.ds.sample_interp_XCNINJ,ISP.ds.sample_interp_YCNINJ, c=ISP.ds.sample_interp_XCNINJ)\n",
    "ax1.set_title('lon fields')\n",
    "ax2.scatter(ISP.ds.sample_lon,ISP.ds.sample_lat, c=ISP.ds.sample_lat, alpha=0.1)\n",
    "ax2.scatter(ISP.ds.sample_interp_XC11,ISP.ds.sample_interp_YC11, c=ISP.ds.sample_interp_YC11)\n",
    "ax2.scatter(ISP.ds.sample_interp_XCNINJ,ISP.ds.sample_interp_YCNINJ, c=ISP.ds.sample_interp_YCNINJ)\n",
    "ax2.set_title('lat fields')\n"
   ]
  },
  {
   "cell_type": "markdown",
   "id": "34cfc9d0-2e15-418a-b0f9-a41991ddca43",
   "metadata": {},
   "source": [
    "From here, one can save the object to netcdf\n",
    "```\n",
    "insitu_obj = ISP.ds.copy()\n",
    "dir_out = '/path/to/insitu/dir/'\n",
    "fout_out = 'insitu_obj.nc'\n",
    "insitu_obj.to_netcdf(dir_out + fout)\n",
    "```"
   ]
  },
  {
   "cell_type": "code",
   "execution_count": null,
   "id": "ec960f99-bfd8-46b1-ac4c-e63375816aa3",
   "metadata": {},
   "outputs": [],
   "source": [
    "# from ecco_v4_py.tile_plot import *\n",
    "# _, XC_wm = plot_tiles(grid_ds.XC, layout='latlon', rotate_to_latlon=True, show_tile_labels=False,\n",
    "#                       show_colorbar=True)"
   ]
  },
  {
   "cell_type": "code",
   "execution_count": null,
   "id": "f41f40e4-01e8-40b2-84a9-1c21e377651a",
   "metadata": {},
   "outputs": [],
   "source": []
  },
  {
   "cell_type": "markdown",
   "id": "75587a0c-f4f2-4bef-b3cf-91cf4e3d0089",
   "metadata": {},
   "source": [
    "# Example: profiles in labsea"
   ]
  },
  {
   "cell_type": "code",
   "execution_count": null,
   "id": "dfa55e05-36d7-4c18-aed9-46c8fd81cc15",
   "metadata": {},
   "outputs": [],
   "source": [
    "ungridded_lons, ungridded_lats = ([310], [55]) # see labsea input/data for XGorigin\n",
    "ISP = InSituPreprocessor('profiles')\n",
    "ISP.get_obs_point(grid_ds, ungridded_lons, ungridded_lats)\n",
    "ISP.ds"
   ]
  },
  {
   "cell_type": "code",
   "execution_count": null,
   "id": "03da540a-e04d-420d-99c1-e6029cb3b00b",
   "metadata": {},
   "outputs": [],
   "source": [
    "prof_depth = ds.Z.values\n",
    "ISP.ds['prof_depth'] = xr.DataArray(prof_depth, dims=['iDEPTH'])\n",
    "prof_T = np.zeros_like(prof_depth);\n",
    "prof_T[0] = 20\n",
    "prof_T = prof_T[None, :]\n",
    "prof_Tweight = np.zeros_like(prof_depth);\n",
    "prof_Tweight[0] = 1.\n",
    "prof_Tweight = prof_Tweight[None, :]\n",
    "\n",
    "ISP.ds['prof_T'] = xr.DataArray(prof_T, dims=['iPROF', 'iDEPTH'])\n",
    "ISP.ds['prof_Tweight'] = xr.DataArray(prof_Tweight, dims=['iPROF', 'iDEPTH'])\n",
    "\n",
    "# temporal info\n",
    "ISP.ds['prof_YYYYMMDD'] = xr.DataArray(np.array([19790101]), dims=['iPROF'])\n",
    "ISP.ds['prof_HHMMSS'] = xr.DataArray(np.array([10000]), dims=['iPROF'])\n",
    "\n",
    "prof_interp_weights = np.ones((1, 4)) * 0.25\n",
    "ISP.ds['prof_interp_weights'] = xr.DataArray(prof_interp_weights, dims=['iPROF', 'iINTERP'])\n"
   ]
  },
  {
   "cell_type": "code",
   "execution_count": null,
   "id": "4519a00c-3bae-4481-8f09-14700b90b2a2",
   "metadata": {},
   "outputs": [],
   "source": [
    "dir_out = '/home/jovyan/'\n",
    "#/efs_ecco/mgoldber/MITgcm_c68i/verification/lab_sea/ecco_hackathon/input_prof/'\n",
    "ISP.ds.to_netcdf(dir_out + 'prof_dummy_2x2.nc')"
   ]
  }
 ],
 "metadata": {
  "kernelspec": {
   "display_name": "Python 3 (ipykernel)",
   "language": "python",
   "name": "python3"
  },
  "language_info": {
   "codemirror_mode": {
    "name": "ipython",
    "version": 3
   },
   "file_extension": ".py",
   "mimetype": "text/x-python",
   "name": "python",
   "nbconvert_exporter": "python",
   "pygments_lexer": "ipython3",
   "version": "3.11.9"
  }
 },
 "nbformat": 4,
 "nbformat_minor": 5
}
