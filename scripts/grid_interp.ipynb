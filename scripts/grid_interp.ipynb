{
 "cells": [
  {
   "cell_type": "markdown",
   "id": "fc9dac48-7360-4f95-9606-4fcaa795e0fd",
   "metadata": {},
   "source": [
    "# Investigate how different nearest neighbor algorithms map from ungridded to the model grid"
   ]
  },
  {
   "cell_type": "code",
   "execution_count": null,
   "id": "da6800f7-8e2c-413e-b935-491ce01bd37a",
   "metadata": {},
   "outputs": [],
   "source": [
    "import pyresample\n",
    "import numpy as np\n",
    "from os.path import expanduser,join,isdir\n",
    "import sys\n",
    "user_home_dir = expanduser('~')\n",
    "\n",
    "import ecco_v4_py as ecco\n",
    "import ecco_access as ea\n",
    "import cartopy.crs as ccrs\n",
    "import matplotlib.pyplot as plt\n",
    "import pyresample as pr\n",
    "\n",
    "from scipy.spatial import KDTree\n",
    "\n",
    "def latlon_ungridded_to_gridded(ds, ungridded_lat, ungridded_lon, nn=1):\n",
    "\n",
    "    # get gridded/llc coordinates\n",
    "    grid_shape = ds.XC.shape\n",
    "\n",
    "    xc = ds.XC.values\n",
    "    yc = ds.YC.values\n",
    "    \n",
    "    gridded_coords = np.c_[yc.ravel(), xc.ravel()]\n",
    "    ungridded_coords = np.c_[ungridded_lat, ungridded_lon]\n",
    "\n",
    "    kd_tree = KDTree(gridded_coords)\n",
    "    distance, nearest_grid_idx = kd_tree.query(ungridded_coords, k=nn)\n",
    "\n",
    "    assert((nearest_grid_idx>np.prod(grid_shape)).sum()==0)\n",
    "\n",
    "    gridded_lat = yc.ravel()[nearest_grid_idx]\n",
    "    gridded_lon = xc.ravel()[nearest_grid_idx]\n",
    "    return gridded_lat, gridded_lon"
   ]
  },
  {
   "cell_type": "markdown",
   "id": "74242d72-68ac-4561-bcc0-00c6eda1b744",
   "metadata": {},
   "source": [
    "### Load any ECCO dataset that comes with the grid\n",
    "This is overkill, just want to grab the model grid's lon and lat fields"
   ]
  },
  {
   "cell_type": "code",
   "execution_count": null,
   "id": "b79f7cd5-a7fa-4067-b9c8-bb40e7647413",
   "metadata": {},
   "outputs": [],
   "source": [
    "# access_mode = 's3_open_fsspec'\n",
    "\n",
    "\n",
    "# # ECCO_dir specifies parent directory of all ECCOv4r4 downloads\n",
    "# # ECCO_dir = None downloads to default path ~/Downloads/ECCO_V4r4_PODAAC/\n",
    "# ECCO_dir = join('/efs_ecco','ECCO_V4r4_PODAAC')\n",
    "\n",
    "# # for access_mode = 's3_open_fsspec', need to specify the root directory \n",
    "# # containing the jsons\n",
    "# jsons_root_dir = join('/efs_ecco','mzz-jsons')\n",
    "\n",
    "\n",
    "# ShortNames_list = [\"ECCO_L4_TEMP_SALINITY_LLC0090GRID_MONTHLY_V4R4\"]\n",
    "# ShortNames_list = ['MZZ_LLC0090GRID_GEOMETRY']\n",
    "# # retrieve files\n",
    "# StartDate = '2010-01'\n",
    "# EndDate = '2010-12'\n",
    "# grid_ds = ea.ecco_podaac_to_xrdataset(ShortNames_list,\\\n",
    "# #                                 StartDate=StartDate,EndDate=EndDate,\\\n",
    "#                                  mode=access_mode,\\\n",
    "#                                  download_root_dir=ECCO_dir,\\\n",
    "#                                  max_avail_frac=0.5,\\\n",
    "#                                  jsons_root_dir=jsons_root_dir)"
   ]
  },
  {
   "cell_type": "markdown",
   "id": "e4471743-dffc-495d-b153-f2029686a360",
   "metadata": {},
   "source": [
    "# Clone the [ECCO-obs-pipeline](https://github.com/ECCO-GROUP/ECCO-obs-pipeline) repo to use fancy grid-aware interpolation"
   ]
  },
  {
   "cell_type": "code",
   "execution_count": null,
   "id": "df0ff4a8-1150-4bfc-aa67-09f9d1a2537e",
   "metadata": {},
   "outputs": [],
   "source": [
    "sys.path.append('/home/jovyan/efs_ecco/mgoldber/ECCO-obs-pipeline/ecco_pipeline/utils/processing_utils/')\n",
    "from transformation_utils import *"
   ]
  },
  {
   "cell_type": "markdown",
   "id": "5922db88-598a-4980-96fd-733a089d6931",
   "metadata": {},
   "source": [
    "- Source grid: model grid\n",
    "- Target grid: a set of arbitrary lat-lon points\n",
    "\n",
    "TO DO: remove land"
   ]
  },
  {
   "cell_type": "code",
   "execution_count": null,
   "id": "84d6d117-1ccc-4dd2-a87f-ce6b32ebe70b",
   "metadata": {},
   "outputs": [],
   "source": [
    "import xarray as xr\n",
    "grid_dir = '/home/jovyan/efs_ecco/mgoldber/ECCO-obs-pipeline/ecco_pipeline/grids/'\n",
    "ecco_grid = xr.open_dataset(grid_dir + 'ECCO_llc90.nc')\n",
    "#ecco_grid = xr.open_dataset('/efs_ecco/ECCO/V4/r4/ECCO_L4_GEOMETRY_LLC0090GRID_V4R4/GRID_GEOMETRY_ECCO_V4r4_native_llc0090.nc')"
   ]
  },
  {
   "cell_type": "markdown",
   "id": "f52c0f03-921d-4dae-9561-cdf44d72d03f",
   "metadata": {},
   "source": [
    "### Grid-aware nearest neighbors"
   ]
  },
  {
   "cell_type": "code",
   "execution_count": null,
   "id": "ab6ce400-ebcc-4fa0-918e-d8d9e93d47d6",
   "metadata": {},
   "outputs": [],
   "source": [
    "def get_interp_points(ungridded_lat, ungridded_lon,\n",
    "                      grid_ds, nneighbours=4,\n",
    "                      source_grid_min_L= 20e3,\n",
    "                      source_grid_max_L = 111e3,\n",
    "                      max_target_grid_radius = int(15e4),\n",
    "                     ):\n",
    "\n",
    "    target_grid = pr.geometry.SwathDefinition(\n",
    "        lats=ungridded_lats, lons=ungridded_lons\n",
    "    )\n",
    "    \n",
    "    source_grid = pr.geometry.SwathDefinition(\n",
    "        lons=grid_ds.XC.values.ravel(), lats=grid_ds.YC.values.ravel()\n",
    "    )\n",
    "\n",
    "    # make sure we have this attribute\n",
    "    # write an assert stateements to check that this field exists\n",
    "    target_grid_radius = grid_ds.effective_grid_radius.values.ravel()\n",
    "    \n",
    "    factors = find_mappings_from_source_to_target(\n",
    "        source_grid,\n",
    "        target_grid,\n",
    "        target_grid_radius,\n",
    "        source_grid_min_L,\n",
    "        source_grid_max_L,\n",
    "        grid_name='ecco',\n",
    "        less_output=False\n",
    "    )\n",
    "\n",
    "    nn_info = pr.kd_tree.get_neighbour_info(\n",
    "        source_grid,\n",
    "        target_grid,\n",
    "        radius_of_influence=int(max_target_grid_radius),\n",
    "        neighbours=nneighbours,\n",
    "    )\n",
    "\n",
    "    return nn_info"
   ]
  },
  {
   "cell_type": "markdown",
   "id": "4677107d-9845-4d38-8e7c-efc3eeb5ac22",
   "metadata": {},
   "source": [
    "# Generate ungridded point\n",
    "You can use the random point generator function or hard code your own! Note that the random points generator by default produces points in high latitudes -- see `lat_range` argument"
   ]
  },
  {
   "cell_type": "code",
   "execution_count": null,
   "id": "13207958-7997-4dba-bedc-b03a67a21d33",
   "metadata": {},
   "outputs": [],
   "source": [
    "# generate nobs random observations\n",
    "def generate_random_points(nobs, lon_range=(-180, 180), lat_range=(60, 90)):\n",
    "    lons = np.random.uniform(low=lon_range[0], high=lon_range[1], size=nobs)\n",
    "    lats = np.random.uniform(low=lat_range[0], high=lat_range[1], size=nobs)\n",
    "    return lons, lats\n",
    "\n",
    "nobs = 10\n",
    "ungridded_lons, ungridded_lats = generate_random_points(nobs)\n",
    "#ungridded_lons, ungridded_lats = ([-50], [89])\n",
    "\n",
    "nn_info = get_interp_points(ungridded_lats, ungridded_lons, ecco_grid, nneighbours=4)\n",
    "nn_tf = nn_info[1]\n",
    "nn_src_to_target = nn_info[2] # nobs by nneighbours -- nearest_grid_index\n",
    "nn_dist = nn_info[3]"
   ]
  },
  {
   "cell_type": "markdown",
   "id": "b60ed878-d77b-46f2-afc4-9b18fd6b34eb",
   "metadata": {},
   "source": [
    "### Examine weighting methods"
   ]
  },
  {
   "cell_type": "code",
   "execution_count": null,
   "id": "65cecb0d-249f-4289-b49b-ace9086a6cec",
   "metadata": {},
   "outputs": [],
   "source": [
    "print(nn_dist)\n",
    "inv_dist = 1 / nn_dist\n",
    "inv_dist_sq = inv_dist ** 2\n",
    "weights = inv_dist / np.sum(inv_dist)\n",
    "weights_is = inv_dist_sq / np.sum(inv_dist_sq)\n",
    "print(f'{weights.sum():.2e}, {weights}')\n",
    "print(f'{weights_is.sum():.2e}, {weights_is}')"
   ]
  },
  {
   "cell_type": "markdown",
   "id": "954a3825-da8e-4b13-bfc3-9cdd75451c4d",
   "metadata": {},
   "source": [
    "# Demonstrate the difference in a plot"
   ]
  },
  {
   "cell_type": "code",
   "execution_count": null,
   "id": "1e291f5f-4bae-4e0d-8509-73a81d96ed71",
   "metadata": {},
   "outputs": [],
   "source": [
    "gridded_lats = ecco_grid.YC.values.ravel()[nn_src_to_target]\n",
    "gridded_lons = ecco_grid.XC.values.ravel()[nn_src_to_target]\n",
    "\n",
    "# plot\n",
    "fig, ax = plt.subplots(figsize=(10, 6), subplot_kw={'projection': ccrs.Orthographic(central_longitude=0, central_latitude=90)})\n",
    "\n",
    "grid_lon, grid_lat = (ecco_grid.XC, ecco_grid.YC) # each are size (13, 90, 90)\n",
    "nskip = None # easier to see plot with fewer points\n",
    "grid_lon_flat = grid_lon.values.flatten()\n",
    "grid_lat_flat = grid_lat.values.flatten()\n",
    "\n",
    "gridded_lat_naive, gridded_lon_naive = latlon_ungridded_to_gridded(ecco_grid, ungridded_lats, ungridded_lons, nn=4)\n",
    "\n",
    "ax.scatter(grid_lon_flat, grid_lat_flat, color='grey', s=3, transform=ccrs.PlateCarree(), alpha=.5, label='model grid points')\n",
    "ax.scatter(gridded_lons, gridded_lats, color='blue', s=20, transform=ccrs.PlateCarree(), label='observations (grid-aware nearest nbr)')\n",
    "ax.scatter(gridded_lon_naive, gridded_lat_naive, color='g', s=20, transform=ccrs.PlateCarree(), label='observations (naive nearest nbr)')\n",
    "ax.scatter(ungridded_lons, ungridded_lats, color='r', s=10, transform=ccrs.PlateCarree(), label='observations (ungridded)')\n",
    "\n",
    "# play with extent to view more points\n",
    "ax.set_extent([-180, 180, 80, 90], crs=ccrs.PlateCarree())\n",
    "ax.coastlines()\n",
    "ax.gridlines()\n",
    "ax.legend(facecolor='white', framealpha=1)\n",
    "fig.tight_layout()\n",
    "fig.set_size_inches(5, 5)\n",
    "ax.set_title('ungridded-to-gridded interpolation', fontsize=20)"
   ]
  },
  {
   "cell_type": "markdown",
   "id": "3c014ac8-738f-4547-97e8-b3c6b6d1eb67",
   "metadata": {},
   "source": [
    "### Sweet's method\n",
    "Haven't finished this yet, but this is [Sweet's method](https://github.com/ECCO-GROUP/ECCO-Insitu-Python/blob/fcf3415bae73d833953df2749134f9eda1573fc3/tools.py) for finding nearest neighbors"
   ]
  },
  {
   "cell_type": "code",
   "execution_count": null,
   "id": "e43e8da7-9b6f-4527-8caf-6071fdc55947",
   "metadata": {},
   "outputs": [],
   "source": [
    "import math\n",
    "from scipy.interpolate import griddata\n",
    "\n",
    "def sph2cart(r, theta, phi):\n",
    "    \"\"\"Converts spherical coordinates (r, theta, phi) to Cartesian coordinates (x, y, z).\"\"\"\n",
    "    x = r * math.sin(phi) * math.cos(theta)\n",
    "    y = r * math.sin(phi) * math.sin(theta)\n",
    "    z = r * math.cos(phi)\n",
    "    return x, y, z\n",
    "\n",
    "X, Y, Z = (ds.XC.values.ravel(), ds.YC.values.ravel(), np.ones_like(ds.XC).ravel())\n",
    "xyz = np.column_stack((X, Y, Z))\n",
    "# map a grid index to each profile.\n",
    "AI = np.arange(ds.XC.size)\n",
    "    \n",
    "deg2rad = np.pi/180.0\n",
    "\n",
    "# Read and process the profile files\n",
    "prof_x, prof_y, prof_z = sph2cart(ungridded_lons*deg2rad, ungridded_lats*deg2rad, 1)\n",
    "\n",
    "prof_llcN_cell_index = griddata(xyz, AI, np.column_stack((prof_x, prof_y, prof_z)), 'nearest')\n",
    "\n",
    "# I think these still need to be converted back to lat/lon\n",
    "X[int(prof_llcN_cell_index)], Y[int(prof_llcN_cell_index)]\n"
   ]
  },
  {
   "cell_type": "markdown",
   "id": "91d0cff5-5bce-4ec1-80d0-c7158055623f",
   "metadata": {},
   "source": [
    "### Plot model longitude and latitude (XC and YC, respectively)"
   ]
  },
  {
   "cell_type": "code",
   "execution_count": null,
   "id": "a5be4aa6-7fce-404c-9f4f-29172dc4f584",
   "metadata": {},
   "outputs": [],
   "source": [
    "import matplotlib.pyplot as plt\n",
    "_, XC_wm = ecco.plot_tiles(ds.XC, layout='latlon', rotate_to_latlon=True, show_tile_labels=False)\n",
    "plt.close()\n",
    "_, YC_wm = ecco.plot_tiles(ds.YC, layout='latlon', rotate_to_latlon=True, show_tile_labels=False)\n",
    "plt.close()\n",
    "# XC_wm.shape"
   ]
  },
  {
   "cell_type": "code",
   "execution_count": null,
   "id": "9d28f34b-2163-4f99-bef7-e4f0ae93f41b",
   "metadata": {},
   "outputs": [],
   "source": []
  }
 ],
 "metadata": {
  "kernelspec": {
   "display_name": "Python 3 (ipykernel)",
   "language": "python",
   "name": "python3"
  },
  "language_info": {
   "codemirror_mode": {
    "name": "ipython",
    "version": 3
   },
   "file_extension": ".py",
   "mimetype": "text/x-python",
   "name": "python",
   "nbconvert_exporter": "python",
   "pygments_lexer": "ipython3",
   "version": "3.11.9"
  }
 },
 "nbformat": 4,
 "nbformat_minor": 5
}
