{
 "cells": [
  {
   "cell_type": "markdown",
   "id": "d949be5f-3ab6-4cbf-bda8-09774529c604",
   "metadata": {},
   "source": [
    "# Test `preproc.interp`"
   ]
  },
  {
   "cell_type": "code",
   "execution_count": null,
   "id": "572b8240-eeb5-4524-bbdf-8c4fee29a18d",
   "metadata": {},
   "outputs": [],
   "source": [
    "import numpy as np\n",
    "import matplotlib.pyplot as plt\n",
    "import xarray as xr\n",
    "import sys\n",
    "sys.path.append('/efs_ecco/mgoldber/EH24-processors-llc/MITpreprobs/')\n",
    "\n",
    "from MITpreprobs.preproc import UngriddedObsPreprocessor\n",
    "\n",
    "%load_ext autoreload\n",
    "%autoreload 2"
   ]
  },
  {
   "cell_type": "code",
   "execution_count": null,
   "id": "c54185dd-e0cf-4b47-89b5-eea52a8b518e",
   "metadata": {},
   "outputs": [],
   "source": [
    "grid_noblank_ds = xr.open_dataset('/efs_ecco/ECCO/V4/r4/ECCO_L4_GEOMETRY_LLC0090GRID_V4R4/GRID_GEOMETRY_ECCO_V4r4_native_llc0090.nc')"
   ]
  },
  {
   "cell_type": "code",
   "execution_count": null,
   "id": "71788dcb-aebb-42c6-8e35-6be6707e1d41",
   "metadata": {},
   "outputs": [],
   "source": [
    "from MITpreprobs.utils import generate_random_points\n",
    "#(nobs, lon_range=(-180, 180), lat_range=(-90, 90)):\n",
    "\n",
    "nobs = 10\n",
    "ungridded_lons, ungridded_lats = generate_random_points(nobs)#, lat_range=(70, 90))\n",
    "# ungridded_lons, ungridded_lats = ([-50], [89])\n",
    "# ungridded_lons, ungridded_lats = ([-40], [40])\n",
    "\n",
    "grid_file = '/efs_ecco/ECCO/V4/r4/ECCO_L4_GEOMETRY_LLC0090GRID_V4R4/GRID_GEOMETRY_ECCO_V4r4_native_llc0090.nc'\n",
    "grid_noblank_ds = xr.open_dataset(grid_file)\n",
    "\n",
    "UOP = UngriddedObsPreprocessor('profiles')\n",
    "UOP.get_obs_point(ungridded_lons,\n",
    "                  ungridded_lats,\n",
    "                  grid_type = 'llc',\n",
    "                  grid_noblank_ds = grid_noblank_ds,\n",
    "                  num_interp_points = 4)"
   ]
  },
  {
   "cell_type": "code",
   "execution_count": null,
   "id": "7d8ec2d9-dd60-4f55-af88-1336423f534b",
   "metadata": {},
   "outputs": [],
   "source": [
    "def get_rnd(lower_lim, upper_lim, N, ndepth=50):\n",
    "    arr = np.random.uniform(lower_lim, upper_lim, size=(ndepth, N))\n",
    "    arr_sorted = np.sort(arr, axis=0)[::-1]\n",
    "    return arr_sorted.T\n",
    "\n",
    "nobs = 100\n",
    "ungridded_lons, ungridded_lats = generate_random_points(nobs)\n",
    "\n",
    "prof_T = get_rnd(3, 30, nobs, 50)\n",
    "prof_Tweight = get_rnd(3, 0.5, nobs, 50)\n",
    "prof_Tweight = np.flip(prof_Tweight)"
   ]
  },
  {
   "cell_type": "code",
   "execution_count": null,
   "id": "a4f0a77f-886c-4cfe-8b87-1b74a1439d01",
   "metadata": {},
   "outputs": [],
   "source": [
    "# make ungridded_ds\n",
    "UOP = UngriddedObsPreprocessor('profiles')\n",
    "UOP.get_obs_point(ungridded_lons,\n",
    "                  ungridded_lats,\n",
    "                 )\n",
    "ungridded_ds = UOP.ungridded_obs_ds.copy()\n",
    "ungridded_ds['prof_T'] = xr.DataArray(prof_T, dims=['iPROF', 'iDEPTH'])\n",
    "ungridded_ds['prof_Tweight'] = xr.DataArray(prof_Tweight, dims=['iPROF', 'iDEPTH'])\n",
    "print(ungridded_ds)\n",
    "UOP = UngriddedObsPreprocessor('profiles', ungridded_obs_ds = ungridded_ds)\n",
    "UOP.get_obs_point(grid_type = 'llc',\n",
    "                  grid_noblank_ds = grid_noblank_ds,\n",
    "                  num_interp_points = 4)"
   ]
  },
  {
   "cell_type": "code",
   "execution_count": null,
   "id": "bd5fc5b5-5336-448b-af09-bd81bb548c9e",
   "metadata": {},
   "outputs": [],
   "source": [
    "import cartopy.crs as ccrs\n",
    "# plot\n",
    "#fig, ax = plt.subplots(figsize=(10, 6), subplot_kw={'projection': ccrs.Orthographic(central_longitude=0, central_latitude=90)})\n",
    "fig, ax = plt.subplots(figsize=(10, 6), subplot_kw={'projection': ccrs.PlateCarree()})\n",
    "\n",
    "nskip = 2\n",
    "#ax.scatter(UOP.xc.ravel()[::nskip], UOP.yc.ravel()[::nskip], color='grey', s=3, transform=ccrs.PlateCarree(), alpha=.5, label='model grid points')\n",
    "prof_lons = UOP.xc_wm.ravel()[UOP.ungridded_obs_ds.prof_point]\n",
    "prof_lats = UOP.yc_wm.ravel()[UOP.ungridded_obs_ds.prof_point]\n",
    "\n",
    "# color interp groups together\n",
    "color_by_group = (nobs <= 100)\n",
    "if color_by_group:\n",
    "    cmap = plt.cm.winter  # Choose a colormap\n",
    "    num_groups = prof_lons.shape[0]\n",
    "    colors = cmap(np.linspace(0, 1, num_groups))  # Get colors for each group\n",
    "    for i in range(num_groups):\n",
    "        ax.scatter(prof_lons[i], prof_lats[i], color=colors[i], s=40, transform=ccrs.PlateCarree(), label=f'obs group {i+1}' if i == 0 else \"\", alpha=0.3)\n",
    "else:\n",
    "    ax.scatter(prof_lons, prof_lats, color='b', s=40, transform=ccrs.PlateCarree(), label=f'observations', alpha=0.1)\n",
    "    \n",
    "ax.scatter(UOP.ungridded_obs_ds.prof_interp_XC11, UOP.ungridded_obs_ds.prof_interp_YC11, color='k', s=30, transform=ccrs.PlateCarree(), label='interp points 11')\n",
    "ax.scatter(UOP.ungridded_obs_ds.prof_interp_XCNINJ, UOP.ungridded_obs_ds.prof_interp_YCNINJ, color='r', s=20, transform=ccrs.PlateCarree(), label='interp points NINJ')\n",
    "\n",
    "# play with extent to view more points\n",
    "#ax.set_extent([-180, 180, 60, 90], crs=ccrs.PlateCarree())\n",
    "ax.coastlines()\n",
    "gl = ax.gridlines(draw_labels=True, linestyle='--', color='gray')\n",
    "\n",
    "ax.legend(facecolor='white', framealpha=0.7, loc='lower left', bbox_to_anchor=(0, 0.1))\n",
    "\n",
    "fig.tight_layout()\n",
    "#fig.set_size_inches(5, 5)\n",
    "#fig.set_size_inches(20, 4)\n",
    "ax.set_title('ungridded-to-gridded interpolation', fontsize=20)"
   ]
  },
  {
   "cell_type": "markdown",
   "id": "4443f039-c3bd-412f-9a01-5f3be149dc57",
   "metadata": {},
   "source": [
    "### Bilinear interpolation, compute `sample_interp_weights`"
   ]
  },
  {
   "cell_type": "code",
   "execution_count": null,
   "id": "61a44214-47ff-4c04-aa53-4c7921bdc79c",
   "metadata": {},
   "outputs": [],
   "source": [
    "ds = UOP.ungridded_obs_ds.copy()\n",
    "prof_lon = ds.prof_lon.values  # Shape (100,)\n",
    "prof_lat = ds.prof_lat.values  # Shape (100,)\n",
    "prof_points = ds.prof_point.values\n",
    "\n",
    "# Function to convert spherical coordinates to Cartesian\n",
    "def spherical_to_cartesian(lon, lat):\n",
    "    x = np.cos(np.radians(lat)) * np.cos(np.radians(lon))\n",
    "    y = np.cos(np.radians(lat)) * np.sin(np.radians(lon))\n",
    "    return x, y\n",
    "\n",
    "# Convert prof_lon and prof_lat to Cartesian\n",
    "x_prof, y_prof = spherical_to_cartesian(prof_lon, prof_lat)\n",
    "\n",
    "# Convert prof_points to Cartesian coordinates\n",
    "prof_lon_flat = UOP.xc_wm.ravel()[ds.prof_point]  # Shape (100, 4)\n",
    "prof_lat_flat = UOP.yc_wm.ravel()[ds.prof_point]  # Shape (100, 4)\n",
    "x_points, y_points = spherical_to_cartesian(prof_lon_flat, prof_lat_flat)\n",
    "\n",
    "# Compute distances between reference points and interpolation points\n",
    "# Reshape to (100, 1) for broadcasting\n",
    "x_prof = x_prof[:, np.newaxis]\n",
    "y_prof = y_prof[:, np.newaxis]"
   ]
  },
  {
   "cell_type": "code",
   "execution_count": null,
   "id": "6c93f5c0-b49a-454b-850a-2837e249a115",
   "metadata": {},
   "outputs": [],
   "source": [
    "\n",
    "def bilinear_interpolation_weights(x, y, points):\n",
    "    '''Interpolate (x,y) from values associated with four points.\n",
    "\n",
    "    The four points are a list of four pairs:  (x, y).\n",
    "    The four points can be in any order.  They should form a rectangle.\n",
    "\n",
    "        >>> bilinear_interpolation_weights(12, 5.5,\n",
    "        ...                        [(10, 4),\n",
    "        ...                         (20, 4),\n",
    "        ...                         (10, 6),\n",
    "        ...                         (20, 6)])\n",
    "\n",
    "    '''\n",
    "    # See formula at:  http://en.wikipedia.org/wiki/Bilinear_interpolation\n",
    "\n",
    "    points = sorted(points)               # order points by x, then by y\n",
    "    (x1, y1), (_x1, y2), (x2, _y1), (_x2, _y2) = points\n",
    "    \n",
    "#    if x1 != _x1 or x2 != _x2 or y1 != _y1 or y2 != _y2:\n",
    "#        raise ValueError('points do not form a rectangle')\n",
    "#    if not x1 <= x <= x2 or not y1 <= y <= y2:\n",
    "#        raise ValueError('(x, y) not within the rectangle')\n",
    "\n",
    "    w11 = ((x2 - x) * (y2 - y)) / ((x2 - x1) * (y2 - y1))\n",
    "    w12 = ((x2 - x) * (y - y1)) / ((x2 - x1) * (y2 - y1))\n",
    "    w21 = ((x - x1) * (y2 - y)) / ((x2 - x1) * (y2 - y1))\n",
    "    w22 = ((x - x1) * (y - y1)) / ((x2 - x1) * (y2 - y1))\n",
    "\n",
    "    return np.array([w11, w12, w21, w22])[0]\n"
   ]
  },
  {
   "cell_type": "code",
   "execution_count": null,
   "id": "073dfd7b-c0b4-4e29-86a4-64507ef41e1d",
   "metadata": {},
   "outputs": [],
   "source": [
    "# x_points, y_points are shape 100, 4\n",
    "points_list = []\n",
    "weights = np.zeros((100, 4))\n",
    "for i in range(100):\n",
    "    points = [(x_points[i, 0], y_points[i, 0]),\n",
    "              (x_points[i, 1], y_points[i, 1]),\n",
    "              (x_points[i, 2], y_points[i, 2]),\n",
    "              (x_points[i, 3], y_points[i, 3])]\n",
    "               \n",
    "    points_list.append(points)\n",
    "    weights[i, :] = bilinear_interpolation_weights(x_prof[i], y_prof[i], points)"
   ]
  }
 ],
 "metadata": {
  "kernelspec": {
   "display_name": "Python 3 (ipykernel)",
   "language": "python",
   "name": "python3"
  },
  "language_info": {
   "codemirror_mode": {
    "name": "ipython",
    "version": 3
   },
   "file_extension": ".py",
   "mimetype": "text/x-python",
   "name": "python",
   "nbconvert_exporter": "python",
   "pygments_lexer": "ipython3",
   "version": "3.11.9"
  }
 },
 "nbformat": 4,
 "nbformat_minor": 5
}
